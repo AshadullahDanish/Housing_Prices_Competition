{
 "cells": [
  {
   "cell_type": "markdown",
   "id": "3af42965",
   "metadata": {
    "papermill": {
     "duration": 0.005862,
     "end_time": "2023-09-10T07:50:31.477614",
     "exception": false,
     "start_time": "2023-09-10T07:50:31.471752",
     "status": "completed"
    },
    "tags": []
   },
   "source": [
    "**This notebook is an exercise in the [Intermediate Machine Learning](https://www.kaggle.com/learn/intermediate-machine-learning) course.  You can reference the tutorial at [this link](https://www.kaggle.com/alexisbcook/introduction).**\n",
    "\n",
    "---\n"
   ]
  },
  {
   "cell_type": "markdown",
   "id": "4e636458",
   "metadata": {
    "papermill": {
     "duration": 0.00464,
     "end_time": "2023-09-10T07:50:31.487282",
     "exception": false,
     "start_time": "2023-09-10T07:50:31.482642",
     "status": "completed"
    },
    "tags": []
   },
   "source": [
    "As a warm-up, you'll review some machine learning fundamentals and submit your initial results to a Kaggle competition.\n",
    "\n",
    "# Setup\n",
    "\n",
    "The questions below will give you feedback on your work. Run the following cell to set up the feedback system."
   ]
  },
  {
   "cell_type": "code",
   "execution_count": 1,
   "id": "5dfc4d94",
   "metadata": {
    "execution": {
     "iopub.execute_input": "2023-09-10T07:50:31.498971Z",
     "iopub.status.busy": "2023-09-10T07:50:31.498651Z",
     "iopub.status.idle": "2023-09-10T07:50:33.302284Z",
     "shell.execute_reply": "2023-09-10T07:50:33.301332Z"
    },
    "papermill": {
     "duration": 1.812244,
     "end_time": "2023-09-10T07:50:33.304484",
     "exception": false,
     "start_time": "2023-09-10T07:50:31.492240",
     "status": "completed"
    },
    "tags": []
   },
   "outputs": [
    {
     "name": "stdout",
     "output_type": "stream",
     "text": [
      "Setup Complete\n"
     ]
    }
   ],
   "source": [
    "# Set up code checking\n",
    "import os\n",
    "if not os.path.exists(\"../input/train.csv\"):\n",
    "    os.symlink(\"../input/home-data-for-ml-course/train.csv\", \"../input/train.csv\")  \n",
    "    os.symlink(\"../input/home-data-for-ml-course/test.csv\", \"../input/test.csv\")  \n",
    "from learntools.core import binder\n",
    "binder.bind(globals())\n",
    "from learntools.ml_intermediate.ex1 import *\n",
    "print(\"Setup Complete\")"
   ]
  },
  {
   "cell_type": "markdown",
   "id": "6201b751",
   "metadata": {
    "papermill": {
     "duration": 0.004907,
     "end_time": "2023-09-10T07:50:33.314555",
     "exception": false,
     "start_time": "2023-09-10T07:50:33.309648",
     "status": "completed"
    },
    "tags": []
   },
   "source": [
    "You will work with data from the [Housing Prices Competition for Kaggle Learn Users](https://www.kaggle.com/c/home-data-for-ml-course) to predict home prices in Iowa using 79 explanatory variables describing (almost) every aspect of the homes.  \n",
    "\n",
    "![Ames Housing dataset image](https://storage.googleapis.com/kaggle-media/learn/images/lTJVG4e.png)\n",
    "\n",
    "Run the next code cell without changes to load the training and validation features in `X_train` and `X_valid`, along with the prediction targets in `y_train` and `y_valid`.  The test features are loaded in `X_test`.  (_If you need to review **features** and **prediction targets**, please check out [this short tutorial](https://www.kaggle.com/dansbecker/your-first-machine-learning-model).  To read about model **validation**, look [here](https://www.kaggle.com/dansbecker/model-validation).  Alternatively, if you'd prefer to look through a full course to review all of these topics, start [here](https://www.kaggle.com/learn/machine-learning).)_"
   ]
  },
  {
   "cell_type": "code",
   "execution_count": 2,
   "id": "148736a3",
   "metadata": {
    "execution": {
     "iopub.execute_input": "2023-09-10T07:50:33.328500Z",
     "iopub.status.busy": "2023-09-10T07:50:33.328004Z",
     "iopub.status.idle": "2023-09-10T07:50:33.414103Z",
     "shell.execute_reply": "2023-09-10T07:50:33.413407Z"
    },
    "papermill": {
     "duration": 0.09507,
     "end_time": "2023-09-10T07:50:33.416462",
     "exception": false,
     "start_time": "2023-09-10T07:50:33.321392",
     "status": "completed"
    },
    "tags": []
   },
   "outputs": [],
   "source": [
    "import pandas as pd\n",
    "from sklearn.model_selection import train_test_split\n",
    "\n",
    "# Read the data\n",
    "X_full = pd.read_csv('../input/train.csv', index_col='Id')\n",
    "X_test_full = pd.read_csv('../input/test.csv', index_col='Id')\n",
    "\n",
    "# Obtain target and predictors\n",
    "y = X_full.SalePrice\n",
    "features = ['LotArea', 'YearBuilt', '1stFlrSF', '2ndFlrSF', 'FullBath', 'BedroomAbvGr', 'TotRmsAbvGrd']\n",
    "X = X_full[features].copy()\n",
    "X_test = X_test_full[features].copy()\n",
    "\n",
    "# Break off validation set from training data\n",
    "X_train, X_valid, y_train, y_valid = train_test_split(X, y, train_size=0.8, test_size=0.2,\n",
    "                                                      random_state=0)"
   ]
  },
  {
   "cell_type": "markdown",
   "id": "40230529",
   "metadata": {
    "papermill": {
     "duration": 0.005402,
     "end_time": "2023-09-10T07:50:33.427703",
     "exception": false,
     "start_time": "2023-09-10T07:50:33.422301",
     "status": "completed"
    },
    "tags": []
   },
   "source": [
    "Use the next cell to print the first several rows of the data. It's a nice way to get an overview of the data you will use in your price prediction model."
   ]
  },
  {
   "cell_type": "code",
   "execution_count": 3,
   "id": "19c9f7df",
   "metadata": {
    "execution": {
     "iopub.execute_input": "2023-09-10T07:50:33.439908Z",
     "iopub.status.busy": "2023-09-10T07:50:33.438903Z",
     "iopub.status.idle": "2023-09-10T07:50:33.453994Z",
     "shell.execute_reply": "2023-09-10T07:50:33.453345Z"
    },
    "papermill": {
     "duration": 0.022839,
     "end_time": "2023-09-10T07:50:33.455572",
     "exception": false,
     "start_time": "2023-09-10T07:50:33.432733",
     "status": "completed"
    },
    "tags": []
   },
   "outputs": [
    {
     "data": {
      "text/html": [
       "<div>\n",
       "<style scoped>\n",
       "    .dataframe tbody tr th:only-of-type {\n",
       "        vertical-align: middle;\n",
       "    }\n",
       "\n",
       "    .dataframe tbody tr th {\n",
       "        vertical-align: top;\n",
       "    }\n",
       "\n",
       "    .dataframe thead th {\n",
       "        text-align: right;\n",
       "    }\n",
       "</style>\n",
       "<table border=\"1\" class=\"dataframe\">\n",
       "  <thead>\n",
       "    <tr style=\"text-align: right;\">\n",
       "      <th></th>\n",
       "      <th>LotArea</th>\n",
       "      <th>YearBuilt</th>\n",
       "      <th>1stFlrSF</th>\n",
       "      <th>2ndFlrSF</th>\n",
       "      <th>FullBath</th>\n",
       "      <th>BedroomAbvGr</th>\n",
       "      <th>TotRmsAbvGrd</th>\n",
       "    </tr>\n",
       "    <tr>\n",
       "      <th>Id</th>\n",
       "      <th></th>\n",
       "      <th></th>\n",
       "      <th></th>\n",
       "      <th></th>\n",
       "      <th></th>\n",
       "      <th></th>\n",
       "      <th></th>\n",
       "    </tr>\n",
       "  </thead>\n",
       "  <tbody>\n",
       "    <tr>\n",
       "      <th>619</th>\n",
       "      <td>11694</td>\n",
       "      <td>2007</td>\n",
       "      <td>1828</td>\n",
       "      <td>0</td>\n",
       "      <td>2</td>\n",
       "      <td>3</td>\n",
       "      <td>9</td>\n",
       "    </tr>\n",
       "    <tr>\n",
       "      <th>871</th>\n",
       "      <td>6600</td>\n",
       "      <td>1962</td>\n",
       "      <td>894</td>\n",
       "      <td>0</td>\n",
       "      <td>1</td>\n",
       "      <td>2</td>\n",
       "      <td>5</td>\n",
       "    </tr>\n",
       "    <tr>\n",
       "      <th>93</th>\n",
       "      <td>13360</td>\n",
       "      <td>1921</td>\n",
       "      <td>964</td>\n",
       "      <td>0</td>\n",
       "      <td>1</td>\n",
       "      <td>2</td>\n",
       "      <td>5</td>\n",
       "    </tr>\n",
       "    <tr>\n",
       "      <th>818</th>\n",
       "      <td>13265</td>\n",
       "      <td>2002</td>\n",
       "      <td>1689</td>\n",
       "      <td>0</td>\n",
       "      <td>2</td>\n",
       "      <td>3</td>\n",
       "      <td>7</td>\n",
       "    </tr>\n",
       "    <tr>\n",
       "      <th>303</th>\n",
       "      <td>13704</td>\n",
       "      <td>2001</td>\n",
       "      <td>1541</td>\n",
       "      <td>0</td>\n",
       "      <td>2</td>\n",
       "      <td>3</td>\n",
       "      <td>6</td>\n",
       "    </tr>\n",
       "  </tbody>\n",
       "</table>\n",
       "</div>"
      ],
      "text/plain": [
       "     LotArea  YearBuilt  1stFlrSF  2ndFlrSF  FullBath  BedroomAbvGr  \\\n",
       "Id                                                                    \n",
       "619    11694       2007      1828         0         2             3   \n",
       "871     6600       1962       894         0         1             2   \n",
       "93     13360       1921       964         0         1             2   \n",
       "818    13265       2002      1689         0         2             3   \n",
       "303    13704       2001      1541         0         2             3   \n",
       "\n",
       "     TotRmsAbvGrd  \n",
       "Id                 \n",
       "619             9  \n",
       "871             5  \n",
       "93              5  \n",
       "818             7  \n",
       "303             6  "
      ]
     },
     "execution_count": 3,
     "metadata": {},
     "output_type": "execute_result"
    }
   ],
   "source": [
    "X_train.head()"
   ]
  },
  {
   "cell_type": "markdown",
   "id": "cf158b82",
   "metadata": {
    "papermill": {
     "duration": 0.005309,
     "end_time": "2023-09-10T07:50:33.467426",
     "exception": false,
     "start_time": "2023-09-10T07:50:33.462117",
     "status": "completed"
    },
    "tags": []
   },
   "source": [
    "The next code cell defines five different random forest models.  Run this code cell without changes.  (_To review **random forests**, look [here](https://www.kaggle.com/dansbecker/random-forests)._)"
   ]
  },
  {
   "cell_type": "code",
   "execution_count": 4,
   "id": "18b70eb5",
   "metadata": {
    "execution": {
     "iopub.execute_input": "2023-09-10T07:50:33.480286Z",
     "iopub.status.busy": "2023-09-10T07:50:33.479706Z",
     "iopub.status.idle": "2023-09-10T07:50:33.484920Z",
     "shell.execute_reply": "2023-09-10T07:50:33.483909Z"
    },
    "papermill": {
     "duration": 0.014362,
     "end_time": "2023-09-10T07:50:33.487350",
     "exception": false,
     "start_time": "2023-09-10T07:50:33.472988",
     "status": "completed"
    },
    "tags": []
   },
   "outputs": [],
   "source": [
    "from sklearn.ensemble import RandomForestRegressor\n",
    "\n",
    "# Define the models\n",
    "model_1 = RandomForestRegressor(n_estimators=50, random_state=0)\n",
    "model_2 = RandomForestRegressor(n_estimators=100, random_state=0)\n",
    "model_3 = RandomForestRegressor(n_estimators=100, criterion='absolute_error', random_state=0)\n",
    "model_4 = RandomForestRegressor(n_estimators=200, min_samples_split=20, random_state=0)\n",
    "model_5 = RandomForestRegressor(n_estimators=100, max_depth=7, random_state=0)\n",
    "\n",
    "models = [model_1, model_2, model_3, model_4, model_5]"
   ]
  },
  {
   "cell_type": "markdown",
   "id": "259eb0a1",
   "metadata": {
    "papermill": {
     "duration": 0.005492,
     "end_time": "2023-09-10T07:50:33.498645",
     "exception": false,
     "start_time": "2023-09-10T07:50:33.493153",
     "status": "completed"
    },
    "tags": []
   },
   "source": [
    "To select the best model out of the five, we define a function `score_model()` below.  This function returns the mean absolute error (MAE) from the validation set.  Recall that the best model will obtain the lowest MAE.  (_To review **mean absolute error**, look [here](https://www.kaggle.com/dansbecker/model-validation).)_\n",
    "\n",
    "Run the code cell without changes."
   ]
  },
  {
   "cell_type": "code",
   "execution_count": 5,
   "id": "cde85609",
   "metadata": {
    "execution": {
     "iopub.execute_input": "2023-09-10T07:50:33.511011Z",
     "iopub.status.busy": "2023-09-10T07:50:33.510690Z",
     "iopub.status.idle": "2023-09-10T07:50:37.612881Z",
     "shell.execute_reply": "2023-09-10T07:50:37.611724Z"
    },
    "papermill": {
     "duration": 4.111766,
     "end_time": "2023-09-10T07:50:37.615767",
     "exception": false,
     "start_time": "2023-09-10T07:50:33.504001",
     "status": "completed"
    },
    "tags": []
   },
   "outputs": [
    {
     "name": "stdout",
     "output_type": "stream",
     "text": [
      "model_1 MAE: 24015.492818003917\n",
      "model_2 MAE: 23740.979228636657\n",
      "model_3 MAE: 23528.78421232877\n",
      "model_4 MAE: 23996.676789668687\n",
      "model_5 MAE: 23706.672864217904\n",
      "{'model_1': 24015.492818003917, 'model_2': 23740.979228636657, 'model_3': 23528.78421232877, 'model_4': 23996.676789668687, 'model_5': 23706.672864217904}\n"
     ]
    }
   ],
   "source": [
    "from sklearn.metrics import mean_absolute_error\n",
    "\n",
    "# Function for comparing different models\n",
    "def score_model(model, X_t=X_train, X_v=X_valid, y_t=y_train, y_v=y_valid):\n",
    "    model.fit(X_t, y_t)\n",
    "    preds = model.predict(X_v)\n",
    "    return mean_absolute_error(y_v, preds)\n",
    "\n",
    "# for i in range(0, len(models)):\n",
    "#     mae = score_model(models[i])\n",
    "#     print(\"Model %d MAE: %d\" % (i+1, mae))\n",
    "    \n",
    "model_mae_dict = {}\n",
    "# Loop through each models and calculate MAE\n",
    "for i, model in enumerate(models):\n",
    "    mae = score_model(model)\n",
    "    model_name = f\"model_{i+1}\"\n",
    "    model_mae_dict[model_name] = mae\n",
    "    print(f\"{model_name} MAE: {mae}\")\n",
    "    \n",
    "# Print the dictionary with model names and MAE values\n",
    "print(model_mae_dict)\n",
    "    "
   ]
  },
  {
   "cell_type": "markdown",
   "id": "91bd975f",
   "metadata": {
    "papermill": {
     "duration": 0.005445,
     "end_time": "2023-09-10T07:50:37.627729",
     "exception": false,
     "start_time": "2023-09-10T07:50:37.622284",
     "status": "completed"
    },
    "tags": []
   },
   "source": [
    "# Step 1: Evaluate several models\n",
    "\n",
    "Use the above results to fill in the line below.  Which model is the best model?  Your answer should be one of `model_1`, `model_2`, `model_3`, `model_4`, or `model_5`."
   ]
  },
  {
   "cell_type": "code",
   "execution_count": 6,
   "id": "2caec882",
   "metadata": {
    "execution": {
     "iopub.execute_input": "2023-09-10T07:50:37.641316Z",
     "iopub.status.busy": "2023-09-10T07:50:37.640937Z",
     "iopub.status.idle": "2023-09-10T07:50:41.739827Z",
     "shell.execute_reply": "2023-09-10T07:50:41.738708Z"
    },
    "papermill": {
     "duration": 4.108091,
     "end_time": "2023-09-10T07:50:41.741674",
     "exception": false,
     "start_time": "2023-09-10T07:50:37.633583",
     "status": "completed"
    },
    "tags": []
   },
   "outputs": [
    {
     "name": "stdout",
     "output_type": "stream",
     "text": [
      "RandomForestRegressor(max_depth=7, random_state=0)\n"
     ]
    },
    {
     "data": {
      "application/javascript": [
       "parent.postMessage({\"jupyterEvent\": \"custom.exercise_interaction\", \"data\": {\"outcomeType\": 1, \"valueTowardsCompletion\": 0.5, \"interactionType\": 1, \"questionType\": 2, \"questionId\": \"1_BestModel\", \"learnToolsVersion\": \"0.3.4\", \"failureMessage\": \"\", \"exceptionClass\": \"\", \"trace\": \"\"}}, \"*\")"
      ],
      "text/plain": [
       "<IPython.core.display.Javascript object>"
      ]
     },
     "metadata": {},
     "output_type": "display_data"
    },
    {
     "data": {
      "text/markdown": [
       "<span style=\"color:#33cc33\">Correct</span>"
      ],
      "text/plain": [
       "Correct"
      ]
     },
     "metadata": {},
     "output_type": "display_data"
    }
   ],
   "source": [
    "# Fill in the best model\n",
    "scores = {model: score_model(model, X_t=X_train, X_v=X_valid, y_t=y_train, y_v=y_valid) for model in models}\n",
    "best_model = min(scores, key=scores.get)\n",
    "print(model)\n",
    "# Check your answer\n",
    "step_1.check()"
   ]
  },
  {
   "cell_type": "markdown",
   "id": "5738fa9a",
   "metadata": {
    "papermill": {
     "duration": 0.005606,
     "end_time": "2023-09-10T07:50:41.753133",
     "exception": false,
     "start_time": "2023-09-10T07:50:41.747527",
     "status": "completed"
    },
    "tags": []
   },
   "source": [
    "# Step 2: Generate test predictions\n",
    "\n",
    "Great. You know how to evaluate what makes an accurate model. Now it's time to go through the modeling process and make predictions. In the line below, create a Random Forest model with the variable name `my_model`."
   ]
  },
  {
   "cell_type": "code",
   "execution_count": 7,
   "id": "fe36bbdf",
   "metadata": {
    "execution": {
     "iopub.execute_input": "2023-09-10T07:50:41.766984Z",
     "iopub.status.busy": "2023-09-10T07:50:41.766654Z",
     "iopub.status.idle": "2023-09-10T07:50:41.775503Z",
     "shell.execute_reply": "2023-09-10T07:50:41.774717Z"
    },
    "papermill": {
     "duration": 0.018645,
     "end_time": "2023-09-10T07:50:41.777425",
     "exception": false,
     "start_time": "2023-09-10T07:50:41.758780",
     "status": "completed"
    },
    "tags": []
   },
   "outputs": [
    {
     "data": {
      "application/javascript": [
       "parent.postMessage({\"jupyterEvent\": \"custom.exercise_interaction\", \"data\": {\"outcomeType\": 1, \"valueTowardsCompletion\": 0.5, \"interactionType\": 1, \"questionType\": 2, \"questionId\": \"2_Predictions\", \"learnToolsVersion\": \"0.3.4\", \"failureMessage\": \"\", \"exceptionClass\": \"\", \"trace\": \"\"}}, \"*\")"
      ],
      "text/plain": [
       "<IPython.core.display.Javascript object>"
      ]
     },
     "metadata": {},
     "output_type": "display_data"
    },
    {
     "data": {
      "text/markdown": [
       "<span style=\"color:#33cc33\">Correct</span>"
      ],
      "text/plain": [
       "Correct"
      ]
     },
     "metadata": {},
     "output_type": "display_data"
    }
   ],
   "source": [
    "# Define a model\n",
    "my_model = RandomForestRegressor()# Your code here\n",
    "\n",
    "# Check your answer\n",
    "step_2.check()"
   ]
  },
  {
   "cell_type": "markdown",
   "id": "e0a97dc2",
   "metadata": {
    "papermill": {
     "duration": 0.005885,
     "end_time": "2023-09-10T07:50:41.789795",
     "exception": false,
     "start_time": "2023-09-10T07:50:41.783910",
     "status": "completed"
    },
    "tags": []
   },
   "source": [
    "Run the next code cell without changes.  The code fits the model to the training and validation data, and then generates test predictions that are saved to a CSV file.  These test predictions can be submitted directly to the competition!"
   ]
  },
  {
   "cell_type": "code",
   "execution_count": 8,
   "id": "ac414a8e",
   "metadata": {
    "execution": {
     "iopub.execute_input": "2023-09-10T07:50:41.804829Z",
     "iopub.status.busy": "2023-09-10T07:50:41.804264Z",
     "iopub.status.idle": "2023-09-10T07:50:42.286984Z",
     "shell.execute_reply": "2023-09-10T07:50:42.286294Z"
    },
    "papermill": {
     "duration": 0.492391,
     "end_time": "2023-09-10T07:50:42.289576",
     "exception": false,
     "start_time": "2023-09-10T07:50:41.797185",
     "status": "completed"
    },
    "tags": []
   },
   "outputs": [],
   "source": [
    "# Fit the model to the training data\n",
    "my_model.fit(X, y)\n",
    "\n",
    "# Generate test predictions\n",
    "preds_test = my_model.predict(X_test)\n",
    "\n",
    "# Save predictions in format used for competition scoring\n",
    "output = pd.DataFrame({'Id': X_test.index,\n",
    "                       'SalePrice': preds_test})\n",
    "output.to_csv('submission.csv', index=False)"
   ]
  },
  {
   "cell_type": "markdown",
   "id": "4c76ac04",
   "metadata": {
    "papermill": {
     "duration": 0.005786,
     "end_time": "2023-09-10T07:50:42.301724",
     "exception": false,
     "start_time": "2023-09-10T07:50:42.295938",
     "status": "completed"
    },
    "tags": []
   },
   "source": [
    "# Submit your results\n",
    "\n",
    "Once you have successfully completed Step 2, you're ready to submit your results to the leaderboard!  First, you'll need to join the competition if you haven't already.  So open a new window by clicking on [this link](https://www.kaggle.com/c/home-data-for-ml-course).  Then click on the **Join Competition** button.  _(If you see a \"Submit Predictions\" button instead of a \"Join Competition\" button, you have already joined the competition, and don't need to do so again.)_\n",
    "\n",
    "Next, follow the instructions below:\n",
    "1. Begin by clicking on the **Save Version** button in the top right corner of the window.  This will generate a pop-up window.  \n",
    "2. Ensure that the **Save and Run All** option is selected, and then click on the **Save** button.\n",
    "3. This generates a window in the bottom left corner of the notebook.  After it has finished running, click on the number to the right of the **Save Version** button.  This pulls up a list of versions on the right of the screen.  Click on the ellipsis **(...)** to the right of the most recent version, and select **Open in Viewer**.  This brings you into view mode of the same page. You will need to scroll down to get back to these instructions.\n",
    "4. Click on the **Data** tab near the top of the screen.  Then, click on the file you would like to submit, and click on the **Submit** button to submit your results to the leaderboard.\n",
    "\n",
    "You have now successfully submitted to the competition!\n",
    "\n",
    "If you want to keep working to improve your performance, select the **Edit** button in the top right of the screen. Then you can change your code and repeat the process. There's a lot of room to improve, and you will climb up the leaderboard as you work.\n"
   ]
  },
  {
   "cell_type": "markdown",
   "id": "1b117e89",
   "metadata": {
    "papermill": {
     "duration": 0.006,
     "end_time": "2023-09-10T07:50:42.313630",
     "exception": false,
     "start_time": "2023-09-10T07:50:42.307630",
     "status": "completed"
    },
    "tags": []
   },
   "source": [
    "# Keep going\n",
    "\n",
    "You've made your first model. But how can you quickly make it better?\n",
    "\n",
    "Learn how to improve your competition results by incorporating columns with **[missing values](https://www.kaggle.com/alexisbcook/missing-values)**."
   ]
  },
  {
   "cell_type": "markdown",
   "id": "505b28dc",
   "metadata": {
    "papermill": {
     "duration": 0.005655,
     "end_time": "2023-09-10T07:50:42.325157",
     "exception": false,
     "start_time": "2023-09-10T07:50:42.319502",
     "status": "completed"
    },
    "tags": []
   },
   "source": [
    "---\n",
    "\n",
    "\n",
    "\n",
    "\n",
    "*Have questions or comments? Visit the [course discussion forum](https://www.kaggle.com/learn/intermediate-machine-learning/discussion) to chat with other learners.*"
   ]
  }
 ],
 "kernelspec": {
  "display_name": "Python 3",
  "language": "python",
  "name": "python3"
 },
 "language_info": {
  "codemirror_mode": {
   "name": "ipython",
   "version": 3
  },
  "file_extension": ".py",
  "mimetype": "text/x-python",
  "name": "python",
  "nbconvert_exporter": "python",
  "pygments_lexer": "ipython3",
  "version": "3.6.4"
 },
 "metadata": {
  "kernelspec": {
   "display_name": "Python 3",
   "language": "python",
   "name": "python3"
  },
  "language_info": {
   "codemirror_mode": {
    "name": "ipython",
    "version": 3
   },
   "file_extension": ".py",
   "mimetype": "text/x-python",
   "name": "python",
   "nbconvert_exporter": "python",
   "pygments_lexer": "ipython3",
   "version": "3.10.12"
  },
  "papermill": {
   "default_parameters": {},
   "duration": 14.021511,
   "end_time": "2023-09-10T07:50:42.852338",
   "environment_variables": {},
   "exception": null,
   "input_path": "__notebook__.ipynb",
   "output_path": "__notebook__.ipynb",
   "parameters": {},
   "start_time": "2023-09-10T07:50:28.830827",
   "version": "2.4.0"
  }
 },
 "nbformat": 4,
 "nbformat_minor": 5
}
